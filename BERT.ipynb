{
  "nbformat": 4,
  "nbformat_minor": 0,
  "metadata": {
    "colab": {
      "name": "FirstApproach.ipynb",
      "provenance": [],
      "collapsed_sections": []
    },
    "kernelspec": {
      "name": "python3",
      "display_name": "Python 3"
    },
    "language_info": {
      "name": "python"
    },
    "accelerator": "GPU"
  },
  "cells": [
    {
      "cell_type": "code",
      "metadata": {
        "colab": {
          "base_uri": "https://localhost:8080/"
        },
        "id": "0OZabvDkjCfI",
        "outputId": "a90d3aa1-754c-489e-e77d-4ca8f9d5e02c"
      },
      "source": [
        "# COMMON\n",
        "!pip install transformers\n",
        "# FIRST APPROACH: It directly finds accuracy of sentiment and sarcasm detection.\n",
        "# SECOND APPROACH: It removes sarcastic texts from corpus.\n",
        "# THIRD APPROACH: It changes all sarcastic texts' polarity to -1 in the corpus if sarcasm exists. (1 => -1)\n",
        "# FOURTH APPROACH: It changes sarcastic texts' polarity to opposite in the corpus if sarcasm exists. (-1 => 1 & 1 => -1)\n",
        "# FIFTH APPROACH: It changes sarcastic texts' polarity to 1 in the corpus if sarcasm exists. (-1 => 1)"
      ],
      "execution_count": 107,
      "outputs": [
        {
          "output_type": "stream",
          "text": [
            "Requirement already satisfied: transformers in /usr/local/lib/python3.7/dist-packages (4.7.0)\n",
            "Requirement already satisfied: huggingface-hub==0.0.8 in /usr/local/lib/python3.7/dist-packages (from transformers) (0.0.8)\n",
            "Requirement already satisfied: importlib-metadata; python_version < \"3.8\" in /usr/local/lib/python3.7/dist-packages (from transformers) (4.5.0)\n",
            "Requirement already satisfied: pyyaml in /usr/local/lib/python3.7/dist-packages (from transformers) (3.13)\n",
            "Requirement already satisfied: packaging in /usr/local/lib/python3.7/dist-packages (from transformers) (20.9)\n",
            "Requirement already satisfied: tokenizers<0.11,>=0.10.1 in /usr/local/lib/python3.7/dist-packages (from transformers) (0.10.3)\n",
            "Requirement already satisfied: tqdm>=4.27 in /usr/local/lib/python3.7/dist-packages (from transformers) (4.41.1)\n",
            "Requirement already satisfied: sacremoses in /usr/local/lib/python3.7/dist-packages (from transformers) (0.0.45)\n",
            "Requirement already satisfied: requests in /usr/local/lib/python3.7/dist-packages (from transformers) (2.23.0)\n",
            "Requirement already satisfied: filelock in /usr/local/lib/python3.7/dist-packages (from transformers) (3.0.12)\n",
            "Requirement already satisfied: regex!=2019.12.17 in /usr/local/lib/python3.7/dist-packages (from transformers) (2019.12.20)\n",
            "Requirement already satisfied: numpy>=1.17 in /usr/local/lib/python3.7/dist-packages (from transformers) (1.19.5)\n",
            "Requirement already satisfied: zipp>=0.5 in /usr/local/lib/python3.7/dist-packages (from importlib-metadata; python_version < \"3.8\"->transformers) (3.4.1)\n",
            "Requirement already satisfied: typing-extensions>=3.6.4; python_version < \"3.8\" in /usr/local/lib/python3.7/dist-packages (from importlib-metadata; python_version < \"3.8\"->transformers) (3.7.4.3)\n",
            "Requirement already satisfied: pyparsing>=2.0.2 in /usr/local/lib/python3.7/dist-packages (from packaging->transformers) (2.4.7)\n",
            "Requirement already satisfied: joblib in /usr/local/lib/python3.7/dist-packages (from sacremoses->transformers) (1.0.1)\n",
            "Requirement already satisfied: six in /usr/local/lib/python3.7/dist-packages (from sacremoses->transformers) (1.15.0)\n",
            "Requirement already satisfied: click in /usr/local/lib/python3.7/dist-packages (from sacremoses->transformers) (7.1.2)\n",
            "Requirement already satisfied: urllib3!=1.25.0,!=1.25.1,<1.26,>=1.21.1 in /usr/local/lib/python3.7/dist-packages (from requests->transformers) (1.24.3)\n",
            "Requirement already satisfied: certifi>=2017.4.17 in /usr/local/lib/python3.7/dist-packages (from requests->transformers) (2021.5.30)\n",
            "Requirement already satisfied: idna<3,>=2.5 in /usr/local/lib/python3.7/dist-packages (from requests->transformers) (2.10)\n",
            "Requirement already satisfied: chardet<4,>=3.0.2 in /usr/local/lib/python3.7/dist-packages (from requests->transformers) (3.0.4)\n"
          ],
          "name": "stdout"
        }
      ]
    },
    {
      "cell_type": "code",
      "metadata": {
        "id": "Xr7BiXZ3jOra"
      },
      "source": [
        "# COMMON\n",
        "# Import libraries\n",
        "import pandas as pd\n",
        "from sklearn.model_selection import train_test_split\n",
        "from transformers import TFBertModel,  BertConfig, BertTokenizerFast\n",
        "from tensorflow.keras.losses import CategoricalCrossentropy\n",
        "from tensorflow.keras.metrics import CategoricalAccuracy\n",
        "from tensorflow.keras.models import Model\n",
        "from tensorflow.keras.utils import to_categorical\n",
        "from tensorflow.keras.optimizers import Adam\n",
        "from tensorflow.keras.callbacks import EarlyStopping\n",
        "from tensorflow.keras.initializers import TruncatedNormal\n",
        "from tensorflow.keras.layers import Input, Dropout, Dense\n",
        "from matplotlib import pyplot as plt\n",
        "import tensorflow as tf\n",
        "from sklearn import metrics\n",
        "import numpy as np\n",
        "import tensorflow as tf"
      ],
      "execution_count": 108,
      "outputs": []
    },
    {
      "cell_type": "code",
      "metadata": {
        "id": "pFUMm48njSA8",
        "colab": {
          "base_uri": "https://localhost:8080/",
          "height": 320
        },
        "outputId": "b2c5ac61-e8ca-46c5-d143-8275910e1659"
      },
      "source": [
        "# COMMON\n",
        "# Import data\n",
        "df = pd.read_csv('text_and_annorations.csv')\n",
        "df = df[['headline', 'Default_Polarity', 'is_sarcastic']]\n",
        "\n",
        "\n",
        "pos = len(df[df.Default_Polarity == 1])\n",
        "neg = len(df[df.Default_Polarity == -1])\n",
        "sarc = len(df[df.is_sarcastic == 'Yes'])\n",
        "nonsarc = len(df[df.is_sarcastic == 'No'])\n",
        "\n",
        "# Create a sample dataframe with an text index\n",
        "plotdata = pd.DataFrame(\n",
        "    {\"text\": [pos, neg, sarc, nonsarc]}, \n",
        "    index=[\"Positive\", \"Negative\", \"Sarcastic\", \"Nonsarcastic\"])\n",
        "# Plot a bar chart\n",
        "plotdata.plot(kind=\"bar\")\n",
        "\n",
        "# Remove missing rows\n",
        "df = df.dropna()\n",
        "\n",
        "df = df.groupby('Default_Polarity').filter(lambda x : len(x) > 1)\n",
        "df = df.groupby('is_sarcastic').filter(lambda x : len(x) > 1)\n",
        "\n",
        "# Convert to numeric for bert\n",
        "df['Polarity'] = pd.Categorical(df['Default_Polarity'])\n",
        "df['Sarcasm'] = pd.Categorical(df['is_sarcastic'])\n",
        "df['Default_Polarity'] = df['Polarity'].cat.codes\n",
        "df['is_sarcastic'] = df['Sarcasm'].cat.codes"
      ],
      "execution_count": 109,
      "outputs": [
        {
          "output_type": "display_data",
          "data": {
            "image/png": "[encoded data removed]",
            "text/plain": [
              "<Figure size 432x288 with 1 Axes>"
            ]
          },
          "metadata": {
            "tags": [],
            "needs_background": "light"
          }
        }
      ]
    },
    {
      "cell_type": "code",
      "metadata": {
        "id": "IRdq5xoKXhGy"
      },
      "source": [
        "# COMMON\n",
        "# Split into training and testing \n",
        "df, df_test = train_test_split(df, test_size = 0.2, stratify = df[['Default_Polarity']])"
      ],
      "execution_count": 110,
      "outputs": []
    },
    {
      "cell_type": "code",
      "metadata": {
        "id": "ZmtWTr9ljW3h",
        "colab": {
          "base_uri": "https://localhost:8080/"
        },
        "outputId": "d526813f-9aa2-4fb9-e315-29349c18493f"
      },
      "source": [
        "# COMMON\n",
        "# BERT model\n",
        "modelName = 'bert-base-uncased'\n",
        "maxLen = 100\n",
        "conf = BertConfig.from_pretrained(modelName)\n",
        "conf.output_hidden_states = False\n",
        "\n",
        "# Load BERT tokenizer\n",
        "tokenizer = BertTokenizerFast.from_pretrained(pretrained_model_name_or_path = modelName, config = conf)\n",
        "\n",
        "# Load transformer BERT model\n",
        "transformerModel = TFBertModel.from_pretrained(modelName, config = conf)\n",
        "\n",
        "bert = transformerModel.layers[0]\n",
        "inputIds = Input(shape=(maxLen,), name='input_ids', dtype='int32')\n",
        "inputs = {'input_ids': inputIds}\n",
        "\n",
        "bertModel = bert(inputs)[1]\n",
        "dropout = Dropout(conf.hidden_dropout_prob, name='pooled_output')\n",
        "pooledOutput = dropout(bertModel, training=False)"
      ],
      "execution_count": 111,
      "outputs": [
        {
          "output_type": "stream",
          "text": [
            "Some layers from the model checkpoint at bert-base-uncased were not used when initializing TFBertModel: ['nsp___cls', 'mlm___cls']\n",
            "- This IS expected if you are initializing TFBertModel from the checkpoint of a model trained on another task or with another architecture (e.g. initializing a BertForSequenceClassification model from a BertForPreTraining model).\n",
            "- This IS NOT expected if you are initializing TFBertModel from the checkpoint of a model that you expect to be exactly identical (initializing a BertForSequenceClassification model from a BertForSequenceClassification model).\n",
            "All the layers of TFBertModel were initialized from the model checkpoint at bert-base-uncased.\n",
            "If your task is similar to the task the model of the checkpoint was trained on, you can already use TFBertModel for predictions without further training.\n"
          ],
          "name": "stderr"
        }
      ]
    },
    {
      "cell_type": "code",
      "metadata": {
        "colab": {
          "base_uri": "https://localhost:8080/"
        },
        "id": "HtKnNl8vXmWB",
        "outputId": "d38b257d-90f0-4266-9b22-f7d282401560"
      },
      "source": [
        "# COMMON\n",
        "pol = Dense(units=len(df.Default_Polarity.value_counts()), kernel_initializer=TruncatedNormal(stddev=conf.initializer_range), name='polarity')(pooledOutput)\n",
        "sarc = Dense(units=len(df.is_sarcastic.value_counts()), kernel_initializer=TruncatedNormal(stddev=conf.initializer_range), name='sarcasm')(pooledOutput)\n",
        "outputs = {'polarity': pol, 'sarcasm': sarc}\n",
        "\n",
        "# Show model\n",
        "model = Model(inputs=inputs, outputs=outputs, name='BERT_For_Sentiment_Analysis')\n",
        "model.summary()"
      ],
      "execution_count": 112,
      "outputs": [
        {
          "output_type": "stream",
          "text": [
            "Model: \"BERT_For_Sentiment_Analysis\"\n",
            "__________________________________________________________________________________________________\n",
            "Layer (type)                    Output Shape         Param #     Connected to                     \n",
            "==================================================================================================\n",
            "input_ids (InputLayer)          [(None, 100)]        0                                            \n",
            "__________________________________________________________________________________________________\n",
            "bert (TFBertMainLayer)          TFBaseModelOutputWit 109482240   input_ids[0][0]                  \n",
            "__________________________________________________________________________________________________\n",
            "pooled_output (Dropout)         (None, 768)          0           bert[0][1]                       \n",
            "__________________________________________________________________________________________________\n",
            "polarity (Dense)                (None, 2)            1538        pooled_output[0][0]              \n",
            "__________________________________________________________________________________________________\n",
            "sarcasm (Dense)                 (None, 2)            1538        pooled_output[0][0]              \n",
            "==================================================================================================\n",
            "Total params: 109,485,316\n",
            "Trainable params: 109,485,316\n",
            "Non-trainable params: 0\n",
            "__________________________________________________________________________________________________\n"
          ],
          "name": "stdout"
        }
      ]
    },
    {
      "cell_type": "code",
      "metadata": {
        "id": "_gTrS8f0U8if"
      },
      "source": [
        "# --------------------------------------------------------------FIRST APPROACH--------------------------------------------------------------------- #"
      ],
      "execution_count": null,
      "outputs": []
    },
    {
      "cell_type": "code",
      "metadata": {
        "colab": {
          "base_uri": "https://localhost:8080/"
        },
        "id": "Vhx0IDnajaZ6",
        "outputId": "79cbdff6-14eb-461f-cd55-9063f7131c57"
      },
      "source": [
        "# Training\n",
        "print('FIRST APPROACH')\n",
        "optimizer = Adam(learning_rate=5e-05, epsilon=1e-08, decay=0.01, clipnorm=1.0)\n",
        "loss = {'polarity': CategoricalCrossentropy(from_logits = True), 'sarcasm': CategoricalCrossentropy(from_logits = True)}\n",
        "metric = {'polarity': CategoricalAccuracy('accuracy'), 'sarcasm': CategoricalAccuracy('accuracy')}\n",
        "model.compile(optimizer = optimizer, loss = loss, metrics = metric)\n",
        "\n",
        "x = tokenizer(text=df.headline.to_list(), add_special_tokens=True, max_length=maxLen, \n",
        "              truncation=True, padding=True, return_tensors='tf', return_token_type_ids = False,\n",
        "              return_attention_mask = True, verbose = True)\n",
        "\n",
        "history = model.fit(x={'input_ids': x['input_ids']}, y={'polarity': to_categorical(df.Default_Polarity), 'sarcasm': to_categorical(df.is_sarcastic)},\n",
        "                    validation_split=0.2, batch_size=64, epochs=20)\n",
        "\n"
      ],
      "execution_count": 113,
      "outputs": [
        {
          "output_type": "stream",
          "text": [
            "FIRST APPROACH\n",
            "Epoch 1/20\n",
            "10/10 [==============================] - 36s 2s/step - loss: 1.3240 - polarity_loss: 0.6726 - sarcasm_loss: 0.6514 - polarity_accuracy: 0.5896 - sarcasm_accuracy: 0.5849 - val_loss: 1.2150 - val_polarity_loss: 0.6701 - val_sarcasm_loss: 0.5449 - val_polarity_accuracy: 0.5912 - val_sarcasm_accuracy: 0.6855\n",
            "Epoch 2/20\n",
            "10/10 [==============================] - 15s 1s/step - loss: 1.1550 - polarity_loss: 0.6375 - sarcasm_loss: 0.5176 - polarity_accuracy: 0.6368 - sarcasm_accuracy: 0.7547 - val_loss: 0.9982 - val_polarity_loss: 0.6207 - val_sarcasm_loss: 0.3775 - val_polarity_accuracy: 0.6226 - val_sarcasm_accuracy: 0.8553\n",
            "Epoch 3/20\n",
            "10/10 [==============================] - 14s 1s/step - loss: 0.8143 - polarity_loss: 0.5085 - sarcasm_loss: 0.3058 - polarity_accuracy: 0.7642 - sarcasm_accuracy: 0.9009 - val_loss: 0.8295 - val_polarity_loss: 0.5416 - val_sarcasm_loss: 0.2879 - val_polarity_accuracy: 0.7233 - val_sarcasm_accuracy: 0.8805\n",
            "Epoch 4/20\n",
            "10/10 [==============================] - 14s 1s/step - loss: 0.5401 - polarity_loss: 0.3785 - sarcasm_loss: 0.1616 - polarity_accuracy: 0.8459 - sarcasm_accuracy: 0.9575 - val_loss: 0.6365 - val_polarity_loss: 0.4044 - val_sarcasm_loss: 0.2322 - val_polarity_accuracy: 0.8491 - val_sarcasm_accuracy: 0.9245\n",
            "Epoch 5/20\n",
            "10/10 [==============================] - 14s 1s/step - loss: 0.3479 - polarity_loss: 0.2492 - sarcasm_loss: 0.0987 - polarity_accuracy: 0.9355 - sarcasm_accuracy: 0.9764 - val_loss: 0.5953 - val_polarity_loss: 0.3640 - val_sarcasm_loss: 0.2313 - val_polarity_accuracy: 0.8553 - val_sarcasm_accuracy: 0.9308\n",
            "Epoch 6/20\n",
            "10/10 [==============================] - 14s 1s/step - loss: 0.2256 - polarity_loss: 0.1665 - sarcasm_loss: 0.0591 - polarity_accuracy: 0.9560 - sarcasm_accuracy: 0.9921 - val_loss: 0.5488 - val_polarity_loss: 0.3402 - val_sarcasm_loss: 0.2086 - val_polarity_accuracy: 0.8616 - val_sarcasm_accuracy: 0.9308\n",
            "Epoch 7/20\n",
            "10/10 [==============================] - 14s 1s/step - loss: 0.1651 - polarity_loss: 0.1261 - sarcasm_loss: 0.0390 - polarity_accuracy: 0.9733 - sarcasm_accuracy: 0.9937 - val_loss: 0.6040 - val_polarity_loss: 0.3762 - val_sarcasm_loss: 0.2278 - val_polarity_accuracy: 0.8491 - val_sarcasm_accuracy: 0.9245\n",
            "Epoch 8/20\n",
            "10/10 [==============================] - 14s 1s/step - loss: 0.1258 - polarity_loss: 0.1008 - sarcasm_loss: 0.0250 - polarity_accuracy: 0.9780 - sarcasm_accuracy: 0.9937 - val_loss: 0.6409 - val_polarity_loss: 0.4027 - val_sarcasm_loss: 0.2382 - val_polarity_accuracy: 0.8616 - val_sarcasm_accuracy: 0.9182\n",
            "Epoch 9/20\n",
            "10/10 [==============================] - 14s 1s/step - loss: 0.1123 - polarity_loss: 0.0916 - sarcasm_loss: 0.0207 - polarity_accuracy: 0.9796 - sarcasm_accuracy: 0.9969 - val_loss: 0.6912 - val_polarity_loss: 0.4317 - val_sarcasm_loss: 0.2595 - val_polarity_accuracy: 0.8553 - val_sarcasm_accuracy: 0.9245\n",
            "Epoch 10/20\n",
            "10/10 [==============================] - 14s 1s/step - loss: 0.0869 - polarity_loss: 0.0725 - sarcasm_loss: 0.0144 - polarity_accuracy: 0.9843 - sarcasm_accuracy: 0.9984 - val_loss: 0.6805 - val_polarity_loss: 0.4286 - val_sarcasm_loss: 0.2519 - val_polarity_accuracy: 0.8679 - val_sarcasm_accuracy: 0.9371\n",
            "Epoch 11/20\n",
            "10/10 [==============================] - 14s 1s/step - loss: 0.0720 - polarity_loss: 0.0603 - sarcasm_loss: 0.0117 - polarity_accuracy: 0.9843 - sarcasm_accuracy: 0.9984 - val_loss: 0.6957 - val_polarity_loss: 0.4293 - val_sarcasm_loss: 0.2663 - val_polarity_accuracy: 0.8805 - val_sarcasm_accuracy: 0.9308\n",
            "Epoch 12/20\n",
            "10/10 [==============================] - 14s 1s/step - loss: 0.0631 - polarity_loss: 0.0471 - sarcasm_loss: 0.0161 - polarity_accuracy: 0.9874 - sarcasm_accuracy: 0.9953 - val_loss: 0.6907 - val_polarity_loss: 0.4241 - val_sarcasm_loss: 0.2666 - val_polarity_accuracy: 0.8742 - val_sarcasm_accuracy: 0.9308\n",
            "Epoch 13/20\n",
            "10/10 [==============================] - 14s 1s/step - loss: 0.0463 - polarity_loss: 0.0338 - sarcasm_loss: 0.0125 - polarity_accuracy: 0.9921 - sarcasm_accuracy: 0.9969 - val_loss: 0.7044 - val_polarity_loss: 0.4247 - val_sarcasm_loss: 0.2797 - val_polarity_accuracy: 0.8742 - val_sarcasm_accuracy: 0.9308\n",
            "Epoch 14/20\n",
            "10/10 [==============================] - 14s 1s/step - loss: 0.0421 - polarity_loss: 0.0255 - sarcasm_loss: 0.0165 - polarity_accuracy: 0.9953 - sarcasm_accuracy: 0.9953 - val_loss: 0.7003 - val_polarity_loss: 0.5166 - val_sarcasm_loss: 0.1836 - val_polarity_accuracy: 0.8113 - val_sarcasm_accuracy: 0.9434\n",
            "Epoch 15/20\n",
            "10/10 [==============================] - 14s 1s/step - loss: 0.0358 - polarity_loss: 0.0235 - sarcasm_loss: 0.0124 - polarity_accuracy: 0.9953 - sarcasm_accuracy: 0.9984 - val_loss: 0.7218 - val_polarity_loss: 0.4879 - val_sarcasm_loss: 0.2339 - val_polarity_accuracy: 0.8616 - val_sarcasm_accuracy: 0.9308\n",
            "Epoch 16/20\n",
            "10/10 [==============================] - 14s 1s/step - loss: 0.0363 - polarity_loss: 0.0213 - sarcasm_loss: 0.0150 - polarity_accuracy: 0.9953 - sarcasm_accuracy: 0.9953 - val_loss: 0.7165 - val_polarity_loss: 0.5186 - val_sarcasm_loss: 0.1979 - val_polarity_accuracy: 0.8428 - val_sarcasm_accuracy: 0.9371\n",
            "Epoch 17/20\n",
            "10/10 [==============================] - 14s 1s/step - loss: 0.0252 - polarity_loss: 0.0153 - sarcasm_loss: 0.0099 - polarity_accuracy: 0.9969 - sarcasm_accuracy: 0.9969 - val_loss: 0.7416 - val_polarity_loss: 0.5402 - val_sarcasm_loss: 0.2013 - val_polarity_accuracy: 0.8491 - val_sarcasm_accuracy: 0.9371\n",
            "Epoch 18/20\n",
            "10/10 [==============================] - 14s 1s/step - loss: 0.0279 - polarity_loss: 0.0182 - sarcasm_loss: 0.0097 - polarity_accuracy: 0.9969 - sarcasm_accuracy: 0.9984 - val_loss: 0.7199 - val_polarity_loss: 0.4831 - val_sarcasm_loss: 0.2368 - val_polarity_accuracy: 0.8679 - val_sarcasm_accuracy: 0.9308\n",
            "Epoch 19/20\n",
            "10/10 [==============================] - 14s 1s/step - loss: 0.0208 - polarity_loss: 0.0115 - sarcasm_loss: 0.0093 - polarity_accuracy: 0.9969 - sarcasm_accuracy: 1.0000 - val_loss: 0.8537 - val_polarity_loss: 0.6550 - val_sarcasm_loss: 0.1987 - val_polarity_accuracy: 0.8302 - val_sarcasm_accuracy: 0.9497\n",
            "Epoch 20/20\n",
            "10/10 [==============================] - 14s 1s/step - loss: 0.0177 - polarity_loss: 0.0088 - sarcasm_loss: 0.0089 - polarity_accuracy: 0.9984 - sarcasm_accuracy: 0.9984 - val_loss: 0.7506 - val_polarity_loss: 0.5206 - val_sarcasm_loss: 0.2300 - val_polarity_accuracy: 0.8428 - val_sarcasm_accuracy: 0.9371\n"
          ],
          "name": "stdout"
        }
      ]
    },
    {
      "cell_type": "code",
      "metadata": {
        "colab": {
          "base_uri": "https://localhost:8080/",
          "height": 1000
        },
        "id": "KINPcYb-dx4K",
        "outputId": "4ac2f21b-c8d6-4457-fda9-71c400e9d5c1"
      },
      "source": [
        "# Plot epochs\n",
        "print('FIRST APPROACH')\n",
        "plt.plot(history.history['polarity_accuracy'])\n",
        "plt.plot(history.history['val_polarity_accuracy'])\n",
        "plt.title('Model accuracy for polarity')\n",
        "plt.ylabel('accuracy')\n",
        "plt.xlabel('epoch')\n",
        "plt.legend(['train', 'val'], loc='upper left')\n",
        "plt.show()\n",
        "print(\"\\n\")\n",
        "plt.plot(history.history['polarity_loss'])\n",
        "plt.plot(history.history['val_polarity_loss'])\n",
        "plt.title('Model loss for polarity')\n",
        "plt.ylabel('loss')\n",
        "plt.xlabel('epoch')\n",
        "plt.legend(['train', 'val'], loc='upper left')\n",
        "plt.show()\n",
        "print(\"\\n\")\n",
        "print(\"---------------------------\")\n",
        "print(\"\\n\")\n",
        "plt.plot(history.history['sarcasm_accuracy'])\n",
        "plt.plot(history.history['val_sarcasm_accuracy'])\n",
        "plt.title('Model accuracy for sarcasm')\n",
        "plt.ylabel('accuracy')\n",
        "plt.xlabel('epoch')\n",
        "plt.legend(['train', 'val'], loc='upper left')\n",
        "plt.show()\n",
        "print(\"\\n\")\n",
        "plt.plot(history.history['sarcasm_loss'])\n",
        "plt.plot(history.history['val_sarcasm_loss'])\n",
        "plt.title('Model loss for sarcasm')\n",
        "plt.ylabel('loss')\n",
        "plt.xlabel('epoch')\n",
        "plt.legend(['train', 'val'], loc='upper left')\n",
        "plt.show()"
      ],
      "execution_count": 114,
      "outputs": [
        {
          "output_type": "stream",
          "text": [
            "FIRST APPROACH\n"
          ],
          "name": "stdout"
        },
        {
          "output_type": "display_data",
          "data": {
            "image/png": "[encoded data removed]",
            "text/plain": [
              "<Figure size 432x288 with 1 Axes>"
            ]
          },
          "metadata": {
            "tags": [],
            "needs_background": "light"
          }
        },
        {
          "output_type": "stream",
          "text": [
            "\n",
            "\n"
          ],
          "name": "stdout"
        },
        {
          "output_type": "display_data",
          "data": {
            "image/png": "[encoded data removed]",
            "text/plain": [
              "<Figure size 432x288 with 1 Axes>"
            ]
          },
          "metadata": {
            "tags": [],
            "needs_background": "light"
          }
        },
        {
          "output_type": "stream",
          "text": [
            "\n",
            "\n",
            "---------------------------\n",
            "\n",
            "\n"
          ],
          "name": "stdout"
        },
        {
          "output_type": "display_data",
          "data": {
            "image/png": "[encoded data removed]",
            "text/plain": [
              "<Figure size 432x288 with 1 Axes>"
            ]
          },
          "metadata": {
            "tags": [],
            "needs_background": "light"
          }
        },
        {
          "output_type": "stream",
          "text": [
            "\n",
            "\n"
          ],
          "name": "stdout"
        },
        {
          "output_type": "display_data",
          "data": {
            "image/png": "[encoded data removed]",
            "text/plain": [
              "<Figure size 432x288 with 1 Axes>"
            ]
          },
          "metadata": {
            "tags": [],
            "needs_background": "light"
          }
        }
      ]
    },
    {
      "cell_type": "code",
      "metadata": {
        "id": "7r5gtsamiv5C",
        "colab": {
          "base_uri": "https://localhost:8080/"
        },
        "outputId": "8cf56a7a-97c0-4f46-b47f-240fc402a3d9"
      },
      "source": [
        "# Testing\n",
        "print('FIRST APPROACH')\n",
        "testPol = to_categorical(df_test.Default_Polarity)\n",
        "testSarc = to_categorical(df_test.is_sarcastic)\n",
        "\n",
        "testReview = tokenizer(text=df_test['headline'].to_list(), add_special_tokens=True,\n",
        "                         max_length=maxLen, truncation=True, padding=True, \n",
        "                         return_tensors='tf', return_token_type_ids = False,\n",
        "                         return_attention_mask = False, verbose = True)\n",
        "print(len(testPol))\n",
        "print(len(testSarc))\n",
        "modelEval = model.evaluate(x={'input_ids': testReview['input_ids']}, y={'polarity': testPol, 'sarcasm': testSarc})\n",
        "modelPred = model.predict({'input_ids': testReview['input_ids']})\n",
        "\n",
        "# Evaluation\n",
        "print('FOR SENTIMENT')\n",
        "polarityPred =  tf.argmax(modelPred['polarity'], axis=1).numpy()\n",
        "y_pred_sent = np.around(polarityPred)\n",
        "print(metrics.classification_report(df_test.Default_Polarity, y_pred_sent))\n",
        "\n",
        "\n",
        "print('FOR SARCASM')\n",
        "sarcasmPred =  tf.argmax(modelPred['sarcasm'], axis=1).numpy()\n",
        "y_pred_sarc = np.around(sarcasmPred)\n",
        "print(metrics.classification_report(df_test.is_sarcastic, y_pred_sarc))"
      ],
      "execution_count": 115,
      "outputs": [
        {
          "output_type": "stream",
          "text": [
            "FIRST APPROACH\n",
            "199\n",
            "199\n",
            "7/7 [==============================] - 1s 192ms/step - loss: 0.7478 - polarity_loss: 0.4187 - sarcasm_loss: 0.3291 - polarity_accuracy: 0.8894 - sarcasm_accuracy: 0.9246\n",
            "FOR SENTIMENT\n",
            "              precision    recall  f1-score   support\n",
            "\n",
            "           0       0.92      0.90      0.91       122\n",
            "           1       0.85      0.87      0.86        77\n",
            "\n",
            "    accuracy                           0.89       199\n",
            "   macro avg       0.88      0.89      0.88       199\n",
            "weighted avg       0.89      0.89      0.89       199\n",
            "\n",
            "FOR SARCASM\n",
            "              precision    recall  f1-score   support\n",
            "\n",
            "           0       0.93      0.95      0.94       126\n",
            "           1       0.91      0.88      0.90        73\n",
            "\n",
            "    accuracy                           0.92       199\n",
            "   macro avg       0.92      0.91      0.92       199\n",
            "weighted avg       0.92      0.92      0.92       199\n",
            "\n"
          ],
          "name": "stdout"
        }
      ]
    },
    {
      "cell_type": "code",
      "metadata": {
        "colab": {
          "base_uri": "https://localhost:8080/"
        },
        "id": "XDhu_2qmZBeY",
        "outputId": "d2cbb63d-fed9-41c8-879f-82b75ead9327"
      },
      "source": [
        "testPol2 = df_test.Default_Polarity\n",
        "testSarc = df_test.is_sarcastic\n",
        "\n",
        "for ind in range(len(testSarc)):\n",
        "  if testSarc.iloc[ind] == 1:\n",
        "    testPol2.iloc[ind] = 0\n",
        "\n",
        "testPol2Cat = to_categorical(testPol2)\n",
        "testSarcCat = to_categorical(testSarc)\n",
        "print('If text has sarcasm change polarity to 0 in test data:')\n",
        "modelEval2 = model.evaluate(x={'input_ids': testReview['input_ids']}, y={'polarity': testPol2Cat})\n",
        "modelPred2 = model.predict({'input_ids': testReview['input_ids']})\n",
        "\n",
        "# Evaluation\n",
        "print('FOR SENTIMENT')\n",
        "polarityPred2 =  tf.argmax(modelPred2['polarity'], axis=1).numpy()\n",
        "y_pred_sent2 = np.around(polarityPred2)\n",
        "print(metrics.classification_report(testPol2, y_pred_sent2))\n",
        "\n",
        "\n",
        "#--------------------------------------------------------------\n",
        "\n",
        "testPol3 = df_test.Default_Polarity\n",
        "\n",
        "for ind in range(len(testSarc)):\n",
        "  if testSarc.iloc[ind] == 1:\n",
        "      testPol3.iloc[ind] = 1 \n",
        "\n",
        "testPol3Cat = to_categorical(testPol3)\n",
        "print('If text has sarcasm change polarity to 1 in test data:')\n",
        "modelEval3 = model.evaluate(x={'input_ids': testReview['input_ids']}, y={'polarity': testPol3Cat})\n",
        "modelPred3 = model.predict({'input_ids': testReview['input_ids']})\n",
        "\n",
        "# Evaluation\n",
        "print('FOR SENTIMENT')\n",
        "polarityPred3 =  tf.argmax(modelPred3['polarity'], axis=1).numpy()\n",
        "y_pred_sent3 = np.around(polarityPred3)\n",
        "print(metrics.classification_report(testPol3, y_pred_sent3))\n",
        "\n",
        "\n",
        "#-------------------------------------------------------------\n",
        "\n",
        "testPol4 = df_test.Default_Polarity\n",
        "for ind in range(len(testSarc)):\n",
        "  if testSarc.iloc[ind] == 1:\n",
        "    if testPol4.iloc[ind] == 0:\n",
        "      testPol4.iloc[ind] = 1 \n",
        "    else:\n",
        "       testPol4.iloc[ind] = 0 \n",
        "\n",
        "testPol4Cat = to_categorical(testPol4)\n",
        "print('If text has sarcasm change polarity to opposite in test data:')\n",
        "modelEval4 = model.evaluate(x={'input_ids': testReview['input_ids']}, y={'polarity': testPol4Cat})\n",
        "modelPred4 = model.predict({'input_ids': testReview['input_ids']})\n",
        "\n",
        "# Evaluation\n",
        "print('FOR SENTIMENT')\n",
        "polarityPred4 =  tf.argmax(modelPred4['polarity'], axis=1).numpy()\n",
        "y_pred_sent4 = np.around(polarityPred4)\n",
        "print(metrics.classification_report(testPol4, y_pred_sent4))\n",
        "\n",
        "#-------------------------------------------------------------\n",
        "testPol5 = df_test.Default_Polarity\n",
        "headline = df_test['headline']\n",
        "newTestPol5 = []\n",
        "newheadline = []\n",
        "for ind in range(len(testSarc)):\n",
        "  if testSarc.iloc[ind] == 0:\n",
        "    newTestPol5.append(testPol5.iloc[ind])\n",
        "    newheadline.append(headline.iloc[ind])\n",
        "\n",
        "testReview2 = tokenizer(text=newheadline, add_special_tokens=True,\n",
        "                         max_length=maxLen, truncation=True, padding=True, \n",
        "                         return_tensors='tf', return_token_type_ids = False,\n",
        "                         return_attention_mask = False, verbose = True)\n",
        "\n",
        "testPol5Cat = to_categorical(newTestPol5)\n",
        "print('If text has sarcasm remove from test data:')\n",
        "modelEval5 = model.evaluate(x={'input_ids': testReview2['input_ids']}, y={'polarity': testPol5Cat})\n",
        "modelPred5 = model.predict({'input_ids': testReview2['input_ids']})\n",
        "\n",
        "# Evaluation\n",
        "print('FOR SENTIMENT')\n",
        "polarityPred5 =  tf.argmax(modelPred5['polarity'], axis=1).numpy()\n",
        "y_pred_sent5 = np.around(polarityPred5)\n",
        "print(metrics.classification_report(newTestPol5, y_pred_sent5))\n"
      ],
      "execution_count": 116,
      "outputs": [
        {
          "output_type": "stream",
          "text": [
            "If text has sarcasm change polarity to 0 in test data:\n"
          ],
          "name": "stdout"
        },
        {
          "output_type": "stream",
          "text": [
            "/usr/local/lib/python3.7/dist-packages/pandas/core/indexing.py:670: SettingWithCopyWarning: \n",
            "A value is trying to be set on a copy of a slice from a DataFrame\n",
            "\n",
            "See the caveats in the documentation: https://pandas.pydata.org/pandas-docs/stable/user_guide/indexing.html#returning-a-view-versus-a-copy\n",
            "  iloc._setitem_with_indexer(indexer, value)\n"
          ],
          "name": "stderr"
        },
        {
          "output_type": "stream",
          "text": [
            "7/7 [==============================] - 4s 193ms/step - loss: 0.3590 - polarity_loss: 0.3590 - sarcasm_loss: 0.0000e+00 - polarity_accuracy: 0.8995 - sarcasm_accuracy: 0.0000e+00\n",
            "FOR SENTIMENT\n",
            "              precision    recall  f1-score   support\n",
            "\n",
            "           0       0.95      0.89      0.92       128\n",
            "           1       0.82      0.92      0.87        71\n",
            "\n",
            "    accuracy                           0.90       199\n",
            "   macro avg       0.89      0.90      0.89       199\n",
            "weighted avg       0.90      0.90      0.90       199\n",
            "\n",
            "If text has sarcasm change polarity to 1 in test data:\n",
            "7/7 [==============================] - 1s 197ms/step - loss: 1.7909 - polarity_loss: 1.7909 - sarcasm_loss: 0.0000e+00 - polarity_accuracy: 0.6030 - sarcasm_accuracy: 0.0000e+00\n",
            "FOR SENTIMENT\n",
            "              precision    recall  f1-score   support\n",
            "\n",
            "           0       0.40      0.87      0.55        55\n",
            "           1       0.91      0.50      0.65       144\n",
            "\n",
            "    accuracy                           0.60       199\n",
            "   macro avg       0.66      0.69      0.60       199\n",
            "weighted avg       0.77      0.60      0.62       199\n",
            "\n",
            "If text has sarcasm change polarity to opposite in test data:\n",
            "7/7 [==============================] - 1s 197ms/step - loss: 0.3590 - polarity_loss: 0.3590 - sarcasm_loss: 0.0000e+00 - polarity_accuracy: 0.8995 - sarcasm_accuracy: 0.0000e+00\n",
            "FOR SENTIMENT\n",
            "              precision    recall  f1-score   support\n",
            "\n",
            "           0       0.95      0.89      0.92       128\n",
            "           1       0.82      0.92      0.87        71\n",
            "\n",
            "    accuracy                           0.90       199\n",
            "   macro avg       0.89      0.90      0.89       199\n",
            "weighted avg       0.90      0.90      0.90       199\n",
            "\n",
            "If text has sarcasm remove from test data:\n",
            "4/4 [==============================] - 1s 223ms/step - loss: 0.4109 - polarity_loss: 0.4109 - sarcasm_loss: 0.0000e+00 - polarity_accuracy: 0.8968 - sarcasm_accuracy: 0.0000e+00\n",
            "FOR SENTIMENT\n",
            "              precision    recall  f1-score   support\n",
            "\n",
            "           0       0.89      0.87      0.88        55\n",
            "           1       0.90      0.92      0.91        71\n",
            "\n",
            "    accuracy                           0.90       126\n",
            "   macro avg       0.90      0.89      0.89       126\n",
            "weighted avg       0.90      0.90      0.90       126\n",
            "\n"
          ],
          "name": "stdout"
        }
      ]
    },
    {
      "cell_type": "code",
      "metadata": {
        "id": "E26nm9HdVYUb"
      },
 "source": [
        "# --------------------------------------------------------------SECOND APPROACH--------------------------------------------------------------------- #"
      ],
      "execution_count": null,
      "outputs": []
    },
    {
      "cell_type": "code",
      "metadata": {
        "colab": {
          "base_uri": "https://localhost:8080/"
        },
        "id": "agzTpypWXKkj",
        "outputId": "bbc669ac-a78d-4867-d743-bcc7e6f5188e"
      },
      "source": [
        "print('SECOND APPROACH')\n",
        "df = df[(df['Sarcasm'] == 'No') & (df['is_sarcastic'] == 0)]\n",
        "print(df)"
      ],
      "execution_count": null,
      "outputs": [
        {
          "output_type": "stream",
          "text": [
            "SECOND APPROACH\n",
            "                                              headline  ...  Sarcasm\n",
            "931  This camp is stupid, annoying, and the girls a...  ...       No\n",
            "562                     Great show. very entertaining!  ...       No\n",
            "456  I get LESS sleep on this drug.. it makes you d...  ...       No\n",
            "844  HORRIBLE! I went there one year and it was lik...  ...       No\n",
            "551  Unpredictable and interesting.  i want so badl...  ...       No\n",
            "..                                                 ...  ...      ...\n",
            "946  Couldn\\'t care less about the war between FAHR...  ...       No\n",
            "819  I went to Frost Valley with my school. It was ...  ...       No\n",
            "965  Admiro mucho al cucuy desde el 2000 que lo emp...  ...       No\n",
            "702  I hate this show.  seriously, it makes my skin...  ...       No\n",
            "372  It\\'s a LIFE SAVER!  Went for years with migra...  ...       No\n",
            "\n",
            "[511 rows x 5 columns]\n"
          ],
          "name": "stdout"
        }
      ]
    },
    {
      "cell_type": "code",
      "metadata": {
        "colab": {
          "base_uri": "https://localhost:8080/"
        },
        "id": "cu9yornIXXsH",
        "outputId": "947c1a72-a080-4c23-e3e3-e5fde65990fb"
      },
      "source": [
        "print('SECOND APPROACH')\n",
        "pol = Dense(units=len(df.Default_Polarity.value_counts()), kernel_initializer=TruncatedNormal(stddev=conf.initializer_range), name='polarity')(pooledOutput)\n",
        "outputs = {'polarity': pol}\n",
        "# Show model\n",
        "model = Model(inputs=inputs, outputs=outputs, name='BERT_For_Sentiment_Analysis')\n",
        "model.summary()"
      ],
      "execution_count": null,
      "outputs": [
        {
          "output_type": "stream",
          "text": [
            "SECOND APPROACH\n",
            "Model: \"BERT_For_Sentiment_Analysis\"\n",
            "_________________________________________________________________\n",
            "Layer (type)                 Output Shape              Param #   \n",
            "=================================================================\n",
            "input_ids (InputLayer)       [(None, 100)]             0         \n",
            "_________________________________________________________________\n",
            "bert (TFBertMainLayer)       TFBaseModelOutputWithPool 109482240 \n",
            "_________________________________________________________________\n",
            "pooled_output (Dropout)      (None, 768)               0         \n",
            "_________________________________________________________________\n",
            "polarity (Dense)             (None, 2)                 1538      \n",
            "=================================================================\n",
            "Total params: 109,483,778\n",
            "Trainable params: 109,483,778\n",
            "Non-trainable params: 0\n",
            "_________________________________________________________________\n"
          ],
          "name": "stdout"
        }
      ]
    },
    {
      "cell_type": "code",
      "metadata": {
        "colab": {
          "base_uri": "https://localhost:8080/"
        },
        "id": "i6GniuICTlV7",
        "outputId": "5636d9ea-e0ac-4b9e-8e95-5927c95a1a8b"
      },
      "source": [
        "# Training\n",
        "print('SECOND APPROACH')\n",
        "optimizer = Adam(learning_rate=5e-05, epsilon=1e-08, decay=0.01, clipnorm=1.0)\n",
        "loss = {'polarity': CategoricalCrossentropy(from_logits = True)}\n",
        "metric = {'polarity': CategoricalAccuracy('accuracy')}\n",
        "model.compile(optimizer = optimizer, loss = loss, metrics = metric)\n",
        "\n",
        "x = tokenizer(text=df.headline.to_list(), add_special_tokens=True, max_length=maxLen, \n",
        "              truncation=True, padding=True, return_tensors='tf', return_token_type_ids = False,\n",
        "              return_attention_mask = True, verbose = True)\n",
        "history = model.fit(x={'input_ids': x['input_ids']}, y={'polarity': to_categorical(df.Default_Polarity)},\n",
        "                    validation_split=0.2, batch_size=64, epochs=20)"
      ],
      "execution_count": null,
      "outputs": [
        {
          "output_type": "stream",
          "text": [
            "SECOND APPROACH\n",
            "Epoch 1/20\n",
            "6/6 [==============================] - 39s 3s/step - loss: 0.4300 - accuracy: 0.8313 - val_loss: 0.1271 - val_accuracy: 0.9878\n",
            "Epoch 2/20\n",
            "6/6 [==============================] - 12s 2s/step - loss: 0.1771 - accuracy: 0.9632 - val_loss: 0.0969 - val_accuracy: 0.9756\n",
            "Epoch 3/20\n",
            "6/6 [==============================] - 12s 2s/step - loss: 0.1073 - accuracy: 0.9785 - val_loss: 0.0455 - val_accuracy: 0.9878\n",
            "Epoch 4/20\n",
            "6/6 [==============================] - 13s 2s/step - loss: 0.0615 - accuracy: 0.9877 - val_loss: 0.0436 - val_accuracy: 0.9756\n",
            "Epoch 5/20\n",
            "6/6 [==============================] - 13s 2s/step - loss: 0.0416 - accuracy: 0.9939 - val_loss: 0.0763 - val_accuracy: 0.9756\n",
            "Epoch 6/20\n",
            "6/6 [==============================] - 13s 2s/step - loss: 0.0322 - accuracy: 0.9939 - val_loss: 0.1842 - val_accuracy: 0.9512\n",
            "Epoch 7/20\n",
            "6/6 [==============================] - 13s 2s/step - loss: 0.0176 - accuracy: 0.9969 - val_loss: 0.1227 - val_accuracy: 0.9512\n",
            "Epoch 8/20\n",
            "6/6 [==============================] - 13s 2s/step - loss: 0.0185 - accuracy: 0.9969 - val_loss: 0.0646 - val_accuracy: 0.9756\n",
            "Epoch 9/20\n",
            "6/6 [==============================] - 13s 2s/step - loss: 0.0053 - accuracy: 1.0000 - val_loss: 0.1221 - val_accuracy: 0.9634\n",
            "Epoch 10/20\n",
            "6/6 [==============================] - 13s 2s/step - loss: 0.0057 - accuracy: 1.0000 - val_loss: 0.1415 - val_accuracy: 0.9634\n",
            "Epoch 11/20\n",
            "6/6 [==============================] - 13s 2s/step - loss: 0.0041 - accuracy: 1.0000 - val_loss: 0.0690 - val_accuracy: 0.9878\n",
            "Epoch 12/20\n",
            "6/6 [==============================] - 13s 2s/step - loss: 0.0033 - accuracy: 1.0000 - val_loss: 0.0561 - val_accuracy: 0.9878\n",
            "Epoch 13/20\n",
            "6/6 [==============================] - 13s 2s/step - loss: 0.0030 - accuracy: 1.0000 - val_loss: 0.0465 - val_accuracy: 0.9878\n",
            "Epoch 14/20\n",
            "6/6 [==============================] - 13s 2s/step - loss: 0.0026 - accuracy: 1.0000 - val_loss: 0.0401 - val_accuracy: 0.9878\n",
            "Epoch 15/20\n",
            "6/6 [==============================] - 13s 2s/step - loss: 0.0023 - accuracy: 1.0000 - val_loss: 0.0366 - val_accuracy: 0.9878\n",
            "Epoch 16/20\n",
            "6/6 [==============================] - 13s 2s/step - loss: 0.0021 - accuracy: 1.0000 - val_loss: 0.0349 - val_accuracy: 0.9878\n",
            "Epoch 17/20\n",
            "6/6 [==============================] - 13s 2s/step - loss: 0.0020 - accuracy: 1.0000 - val_loss: 0.0344 - val_accuracy: 0.9878\n",
            "Epoch 18/20\n",
            "6/6 [==============================] - 13s 2s/step - loss: 0.0019 - accuracy: 1.0000 - val_loss: 0.0352 - val_accuracy: 0.9878\n",
            "Epoch 19/20\n",
            "6/6 [==============================] - 13s 2s/step - loss: 0.0017 - accuracy: 1.0000 - val_loss: 0.0387 - val_accuracy: 0.9878\n",
            "Epoch 20/20\n",
            "6/6 [==============================] - 13s 2s/step - loss: 0.0016 - accuracy: 1.0000 - val_loss: 0.0413 - val_accuracy: 0.9878\n"
          ],
          "name": "stdout"
        }
      ]
    },
    {
      "cell_type": "code",
      "metadata": {
        "colab": {
          "base_uri": "https://localhost:8080/",
          "height": 627
        },
        "id": "e4_wUkTAQYEm",
        "outputId": "31d033e1-337e-4969-dacd-f1c806202b20"
      },
      "source": [
        "# Plot epochs\n",
        "print('SECOND APPROACH')\n",
        "plt.plot(history.history['accuracy'])\n",
        "plt.plot(history.history['val_accuracy'])\n",
        "plt.title('model accuracy')\n",
        "plt.ylabel('accuracy')\n",
        "plt.xlabel('epoch')\n",
        "plt.legend(['train', 'val'], loc='upper left')\n",
        "plt.show()\n",
        "print(\"\\n\")\n",
        "plt.plot(history.history['loss'])\n",
        "plt.plot(history.history['val_loss'])\n",
        "plt.title('model loss')\n",
        "plt.ylabel('loss')\n",
        "plt.xlabel('epoch')\n",
        "plt.legend(['train', 'val'], loc='upper left')\n",
        "plt.show()"
      ],
      "execution_count": null,
      "outputs": [
        {
          "output_type": "stream",
          "text": [
            "SECOND APPROACH\n"
          ],
          "name": "stdout"
        },
        {
          "output_type": "display_data",
          "data": {
            "image/png": "[encoded data removed]",
            "text/plain": [
              "<Figure size 432x288 with 1 Axes>"
            ]
          },
          "metadata": {
            "tags": [],
            "needs_background": "light"
          }
        },
        {
          "output_type": "stream",
          "text": [
            "\n",
            "\n"
          ],
          "name": "stdout"
        },
        {
          "output_type": "display_data",
          "data": {
            "image/png": "[encoded data removed]",
            "text/plain": [
              "<Figure size 432x288 with 1 Axes>"
            ]
          },
          "metadata": {
            "tags": [],
            "needs_background": "light"
          }
        }
      ]
    },
    {
      "cell_type": "code",
      "metadata": {
        "id": "Sh8aN7SIKgkd",
        "colab": {
          "base_uri": "https://localhost:8080/"
        },
        "outputId": "e52976f2-5b19-47fd-f6e7-bccb364fd115"
      },
      "source": [
        "# Testing\n",
        "print('SECOND APPROACH')\n",
        "testPol = to_categorical(df_test.Default_Polarity)\n",
        "testReview = tokenizer(text=df_test['headline'].to_list(), add_special_tokens=True,\n",
        "                         max_length=maxLen, truncation=True, padding=True, \n",
        "                         return_tensors='tf', return_token_type_ids = False,\n",
        "                         return_attention_mask = False, verbose = True)\n",
        "modelEval = model.evaluate(x={'input_ids': testReview['input_ids']}, y={'polarity': testPol})\n",
        "modelPred = model.predict({'input_ids': testReview['input_ids']})"
      ],
      "execution_count": null,
      "outputs": [
        {
          "output_type": "stream",
          "text": [
            "SECOND APPROACH\n",
            "4/4 [==============================] - 1s 306ms/step - loss: 0.2083 - accuracy: 0.9515\n"
          ],
          "name": "stdout"
        }
      ]
    },
    {
      "cell_type": "code",
      "metadata": {
        "colab": {
          "base_uri": "https://localhost:8080/"
        },
        "id": "eOkZ_W4jWnEq",
        "outputId": "ac63513a-14e4-40e4-8552-5daf8a2f378e"
      },
      "source": [
        "# Evaluation\n",
        "print('SECOND APPROACH')\n",
        "polarityPred =  tf.argmax(modelPred['polarity'], axis=1).numpy()\n",
        "y_pred = np.around(polarityPred)\n",
        "print(metrics.classification_report(df_test.Default_Polarity, y_pred))"
      ],
      "execution_count": null,
      "outputs": [
        {
          "output_type": "stream",
          "text": [
            "SECOND APPROACH\n",
            "              precision    recall  f1-score   support\n",
            "\n",
            "           0       0.93      0.96      0.95        45\n",
            "           1       0.96      0.95      0.96        58\n",
            "\n",
            "    accuracy                           0.95       103\n",
            "   macro avg       0.95      0.95      0.95       103\n",
            "weighted avg       0.95      0.95      0.95       103\n",
            "\n"
          ],
          "name": "stdout"
        }
      ]
    },
    {
      "cell_type": "code",
      "metadata": {
        "id": "MJ18fBVSXxMr"
      },
      "source": [
        "# --------------------------------------------------------------THIRD APPROACH--------------------------------------------------------------------- #"
      ],
      "execution_count": null,
      "outputs": []
    },
    {
      "cell_type": "code",
      "metadata": {
        "colab": {
          "base_uri": "https://localhost:8080/"
        },
        "id": "I5H1ek60ZoMU",
        "outputId": "579e4394-65d7-4519-d16d-04a1bd4e812c"
      },
      "source": [
        "print('THIRD APPROACH')\n",
        "print(df.Polarity)\n",
        "print(df.Default_Polarity)\n",
        "df.loc[df.Sarcasm == 'Yes', ['Default_Polarity', 'Polarity']] = 0, -1\n",
        "print(df.Default_Polarity[df.Sarcasm == 'Yes'])"
      ],
      "execution_count": null,
      "outputs": [
        {
          "output_type": "stream",
          "text": [
            "THIRD APPROACH\n",
            "0     -1\n",
            "1     -1\n",
            "2     -1\n",
            "3     -1\n",
            "4     -1\n",
            "      ..\n",
            "989   -1\n",
            "990   -1\n",
            "991   -1\n",
            "992   -1\n",
            "993   -1\n",
            "Name: Polarity, Length: 994, dtype: category\n",
            "Categories (2, int64): [-1, 1]\n",
            "0      0\n",
            "1      0\n",
            "2      0\n",
            "3      0\n",
            "4      0\n",
            "      ..\n",
            "989    0\n",
            "990    0\n",
            "991    0\n",
            "992    0\n",
            "993    0\n",
            "Name: Default_Polarity, Length: 994, dtype: int8\n",
            "0      0\n",
            "1      0\n",
            "2      0\n",
            "3      0\n",
            "4      0\n",
            "      ..\n",
            "345    0\n",
            "346    0\n",
            "347    0\n",
            "348    0\n",
            "349    0\n",
            "Name: Default_Polarity, Length: 350, dtype: int8\n"
          ],
          "name": "stdout"
        }
      ]
    },
    {
      "cell_type": "code",
      "metadata": {
        "colab": {
          "base_uri": "https://localhost:8080/"
        },
        "id": "YxcJbiSuYVfy",
        "outputId": "8e1c91b0-0344-4480-b018-ff2a4a6bd7ec"
      },
      "source": [
        "print('THIRD APPROACH')\n",
        "pol = Dense(units=len(df.Default_Polarity.value_counts()), kernel_initializer=TruncatedNormal(stddev=conf.initializer_range), name='polarity')(pooledOutput)\n",
        "outputs = {'polarity': pol}\n",
        "# Show model\n",
        "model = Model(inputs=inputs, outputs=outputs, name='BERT_For_Sentiment_Analysis')\n",
        "model.summary()"
      ],
      "execution_count": null,
      "outputs": [
        {
          "output_type": "stream",
          "text": [
            "THIRD APPROACH\n",
            "Model: \"BERT_For_Sentiment_Analysis\"\n",
            "_________________________________________________________________\n",
            "Layer (type)                 Output Shape              Param #   \n",
            "=================================================================\n",
            "input_ids (InputLayer)       [(None, 100)]             0         \n",
            "_________________________________________________________________\n",
            "bert (TFBertMainLayer)       TFBaseModelOutputWithPool 109482240 \n",
            "_________________________________________________________________\n",
            "pooled_output (Dropout)      (None, 768)               0         \n",
            "_________________________________________________________________\n",
            "polarity (Dense)             (None, 2)                 1538      \n",
            "=================================================================\n",
            "Total params: 109,483,778\n",
            "Trainable params: 109,483,778\n",
            "Non-trainable params: 0\n",
            "_________________________________________________________________\n"
          ],
          "name": "stdout"
        }
      ]
    },
    {
      "cell_type": "code",
      "metadata": {
        "colab": {
          "base_uri": "https://localhost:8080/"
        },
        "id": "l_T4b2VnTkqd",
        "outputId": "4abe5800-0594-48ef-ffe0-cb2993ed31d0"
      },
      "source": [
        "# Training\n",
        "print('THIRD APPROACH')\n",
        "optimizer = Adam(learning_rate=5e-05, epsilon=1e-08, decay=0.01, clipnorm=1.0)\n",
        "loss = {'polarity': CategoricalCrossentropy(from_logits = True)}\n",
        "metric = {'polarity': CategoricalAccuracy('accuracy')}\n",
        "model.compile(optimizer = optimizer, loss = loss, metrics = metric)\n",
        "\n",
        "x = tokenizer(text=df.headline.to_list(), add_special_tokens=True, max_length=maxLen, \n",
        "              truncation=True, padding=True, return_tensors='tf', return_token_type_ids = False,\n",
        "              return_attention_mask = True, verbose = True)\n",
        "history = model.fit(x={'input_ids': x['input_ids']}, y={'polarity': to_categorical(df.Default_Polarity)},\n",
        "                    validation_split=0.2, batch_size=64, epochs=20)"
      ],
      "execution_count": null,
      "outputs": [
        {
          "output_type": "stream",
          "text": [
            "THIRD APPROACH\n",
            "Epoch 1/20\n",
            "10/10 [==============================] - 52s 3s/step - loss: 0.6680 - accuracy: 0.6132 - val_loss: 0.6325 - val_accuracy: 0.6730\n",
            "Epoch 2/20\n",
            "10/10 [==============================] - 24s 2s/step - loss: 0.6493 - accuracy: 0.6336 - val_loss: 0.5802 - val_accuracy: 0.6730\n",
            "Epoch 3/20\n",
            "10/10 [==============================] - 24s 2s/step - loss: 0.5739 - accuracy: 0.7264 - val_loss: 0.5284 - val_accuracy: 0.7673\n",
            "Epoch 4/20\n",
            "10/10 [==============================] - 24s 2s/step - loss: 0.4592 - accuracy: 0.7909 - val_loss: 0.4288 - val_accuracy: 0.8176\n",
            "Epoch 5/20\n",
            "10/10 [==============================] - 24s 2s/step - loss: 0.2853 - accuracy: 0.8978 - val_loss: 0.3039 - val_accuracy: 0.8868\n",
            "Epoch 6/20\n",
            "10/10 [==============================] - 24s 2s/step - loss: 0.1525 - accuracy: 0.9544 - val_loss: 0.3742 - val_accuracy: 0.8679\n",
            "Epoch 7/20\n",
            "10/10 [==============================] - 24s 2s/step - loss: 0.1180 - accuracy: 0.9638 - val_loss: 0.3925 - val_accuracy: 0.8679\n",
            "Epoch 8/20\n",
            "10/10 [==============================] - 24s 2s/step - loss: 0.0662 - accuracy: 0.9811 - val_loss: 0.3551 - val_accuracy: 0.8742\n",
            "Epoch 9/20\n",
            "10/10 [==============================] - 24s 2s/step - loss: 0.0262 - accuracy: 0.9937 - val_loss: 0.3314 - val_accuracy: 0.8994\n",
            "Epoch 10/20\n",
            "10/10 [==============================] - 24s 2s/step - loss: 0.0253 - accuracy: 0.9937 - val_loss: 0.3841 - val_accuracy: 0.8994\n",
            "Epoch 11/20\n",
            "10/10 [==============================] - 24s 2s/step - loss: 0.0178 - accuracy: 0.9953 - val_loss: 0.4271 - val_accuracy: 0.8805\n",
            "Epoch 12/20\n",
            "10/10 [==============================] - 24s 2s/step - loss: 0.0095 - accuracy: 0.9984 - val_loss: 0.4267 - val_accuracy: 0.8994\n",
            "Epoch 13/20\n",
            "10/10 [==============================] - 24s 2s/step - loss: 0.0075 - accuracy: 0.9984 - val_loss: 0.4070 - val_accuracy: 0.8931\n",
            "Epoch 14/20\n",
            "10/10 [==============================] - 24s 2s/step - loss: 0.0054 - accuracy: 1.0000 - val_loss: 0.3820 - val_accuracy: 0.9057\n",
            "Epoch 15/20\n",
            "10/10 [==============================] - 24s 2s/step - loss: 0.0124 - accuracy: 0.9984 - val_loss: 0.4218 - val_accuracy: 0.8805\n",
            "Epoch 16/20\n",
            "10/10 [==============================] - 24s 2s/step - loss: 0.0031 - accuracy: 1.0000 - val_loss: 0.4045 - val_accuracy: 0.8994\n",
            "Epoch 17/20\n",
            "10/10 [==============================] - 24s 2s/step - loss: 0.0028 - accuracy: 1.0000 - val_loss: 0.4137 - val_accuracy: 0.8994\n",
            "Epoch 18/20\n",
            "10/10 [==============================] - 24s 2s/step - loss: 0.0105 - accuracy: 0.9984 - val_loss: 0.4359 - val_accuracy: 0.8994\n",
            "Epoch 19/20\n",
            "10/10 [==============================] - 24s 2s/step - loss: 0.0072 - accuracy: 0.9984 - val_loss: 0.4428 - val_accuracy: 0.8868\n",
            "Epoch 20/20\n",
            "10/10 [==============================] - 24s 2s/step - loss: 0.0073 - accuracy: 0.9969 - val_loss: 0.5214 - val_accuracy: 0.8994\n"
          ],
          "name": "stdout"
        }
      ]
    },
    {
      "cell_type": "code",
      "metadata": {
        "colab": {
          "base_uri": "https://localhost:8080/",
          "height": 627
        },
        "id": "GGVtO-pTQc5b",
        "outputId": "24c1699c-bec9-4335-b9b5-889ac4dc7c3f"
      },
      "source": [
        "# Plot epochs\n",
        "print('THIRD APPROACH')\n",
        "plt.plot(history.history['accuracy'])\n",
        "plt.plot(history.history['val_accuracy'])\n",
        "plt.title('model accuracy')\n",
        "plt.ylabel('accuracy')\n",
        "plt.xlabel('epoch')\n",
        "plt.legend(['train', 'val'], loc='upper left')\n",
        "plt.show()\n",
        "print(\"\\n\")\n",
        "plt.plot(history.history['loss'])\n",
        "plt.plot(history.history['val_loss'])\n",
        "plt.title('model loss')\n",
        "plt.ylabel('loss')\n",
        "plt.xlabel('epoch')\n",
        "plt.legend(['train', 'val'], loc='upper left')\n",
        "plt.show()"
      ],
      "execution_count": null,
      "outputs": [
        {
          "output_type": "stream",
          "text": [
            "THIRD APPROACH\n"
          ],
          "name": "stdout"
        },
        {
          "output_type": "display_data",
          "data": {
            "image/png": "[encoded data removed]",
            "text/plain": [
              "<Figure size 432x288 with 1 Axes>"
            ]
          },
          "metadata": {
            "tags": [],
            "needs_background": "light"
          }
        },
        {
          "output_type": "stream",
          "text": [
            "\n",
            "\n"
          ],
          "name": "stdout"
        },
        {
          "output_type": "display_data",
          "data": {
            "image/png": "[encoded data removed]",
            "text/plain": [
              "<Figure size 432x288 with 1 Axes>"
            ]
          },
          "metadata": {
            "tags": [],
            "needs_background": "light"
          }
        }
      ]
    },
    {
      "cell_type": "code",
      "metadata": {
        "colab": {
          "base_uri": "https://localhost:8080/"
        },
        "id": "xK3O94DUYbGy",
        "outputId": "ca9e9ef3-db4d-431e-bdcd-c7257531f93c"
      },
      "source": [
        "# Testing\n",
        "print('THIRD APPROACH')\n",
        "testPol = to_categorical(df_test.Default_Polarity)\n",
        "testReview = tokenizer(text=df_test['headline'].to_list(), add_special_tokens=True,\n",
        "                         max_length=maxLen, truncation=True, padding=True, \n",
        "                         return_tensors='tf', return_token_type_ids = False,\n",
        "                         return_attention_mask = False, verbose = True)\n",
        "modelEval = model.evaluate(x={'input_ids': testReview['input_ids']}, y={'polarity': testPol})\n",
        "modelPred = model.predict({'input_ids': testReview['input_ids']})"
      ],
      "execution_count": null,
      "outputs": [
        {
          "output_type": "stream",
          "text": [
            "THIRD APPROACH\n",
            "7/7 [==============================] - 3s 343ms/step - loss: 0.5227 - accuracy: 0.8894\n"
          ],
          "name": "stdout"
        }
      ]
    },
    {
      "cell_type": "code",
      "metadata": {
        "colab": {
          "base_uri": "https://localhost:8080/"
        },
        "id": "wIaEoupnYet5",
        "outputId": "b50347c9-3434-4cb5-ec5e-57ab5b2b9f69"
      },
      "source": [
        "# Evaluation\n",
        "print('THIRD APPROACH')\n",
        "polarityPred =  tf.argmax(modelPred['polarity'], axis=1).numpy()\n",
        "y_pred = np.around(polarityPred)\n",
        "print(metrics.classification_report(df_test.Default_Polarity, y_pred))"
      ],
      "execution_count": null,
      "outputs": [
        {
          "output_type": "stream",
          "text": [
            "THIRD APPROACH\n",
            "              precision    recall  f1-score   support\n",
            "\n",
            "           0       0.88      0.95      0.92       127\n",
            "           1       0.90      0.78      0.84        72\n",
            "\n",
            "    accuracy                           0.89       199\n",
            "   macro avg       0.89      0.87      0.88       199\n",
            "weighted avg       0.89      0.89      0.89       199\n",
            "\n"
          ],
          "name": "stdout"
        }
      ]
    },
    {
      "cell_type": "code",
      "metadata": {
        "id": "neki8ggVYit-"
      },
      "source": [
        "# --------------------------------------------------------------FOURTH APPROACH--------------------------------------------------------------------- #"
      ],
      "execution_count": null,
      "outputs": []
    },
    {
      "cell_type": "code",
      "metadata": {
        "colab": {
          "base_uri": "https://localhost:8080/"
        },
        "id": "mQ57ILSgk4pk",
        "outputId": "76e1554c-4fc2-4699-8f23-0bb3cc95c7ad"
      },
      "source": [
        "print('FOURTH APPROACH')\n",
        "print(df.Polarity)\n",
        "print(df.Default_Polarity)\n",
        "df.loc[(df.Sarcasm == 'Yes') & (df.Default_Polarity == 1), 'Default_Polarity'] = 0\n",
        "df.loc[(df.Sarcasm == 'Yes') & (df.Default_Polarity == 0), 'Default_Polarity'] = 1\n",
        "df.loc[(df.Sarcasm == 'Yes') & (df.Polarity == -1), 'Polarity'] = 1\n",
        "df.loc[(df.Sarcasm == 'Yes') & (df.Polarity == 1), 'Polarity'] = -1\n",
        "print(df.Default_Polarity)"
      ],
      "execution_count": null,
      "outputs": [
        {
          "output_type": "stream",
          "text": [
            "FOURTH APPROACH\n",
            "0     -1\n",
            "1     -1\n",
            "2     -1\n",
            "3     -1\n",
            "4     -1\n",
            "      ..\n",
            "989   -1\n",
            "990   -1\n",
            "991   -1\n",
            "992   -1\n",
            "993   -1\n",
            "Name: Polarity, Length: 994, dtype: category\n",
            "Categories (2, int64): [-1, 1]\n",
            "0      0\n",
            "1      0\n",
            "2      0\n",
            "3      0\n",
            "4      0\n",
            "      ..\n",
            "989    0\n",
            "990    0\n",
            "991    0\n",
            "992    0\n",
            "993    0\n",
            "Name: Default_Polarity, Length: 994, dtype: int8\n",
            "0      1\n",
            "1      1\n",
            "2      1\n",
            "3      1\n",
            "4      1\n",
            "      ..\n",
            "989    0\n",
            "990    0\n",
            "991    0\n",
            "992    0\n",
            "993    0\n",
            "Name: Default_Polarity, Length: 994, dtype: int8\n"
          ],
          "name": "stdout"
        }
      ]
    },
    {
      "cell_type": "code",
      "metadata": {
        "colab": {
          "base_uri": "https://localhost:8080/"
        },
        "id": "LRE0XMDmZGEV",
        "outputId": "cc543198-f600-4a1e-9d2b-db198e6984f0"
      },
      "source": [
        "print('FOURTH APPROACH')\n",
        "pol = Dense(units=len(df.Default_Polarity.value_counts()), kernel_initializer=TruncatedNormal(stddev=conf.initializer_range), name='polarity')(pooledOutput)\n",
        "outputs = {'polarity': pol}\n",
        "# Show model\n",
        "model = Model(inputs=inputs, outputs=outputs, name='BERT_For_Sentiment_Analysis')\n",
        "model.summary()"
      ],
      "execution_count": null,
      "outputs": [
        {
          "output_type": "stream",
          "text": [
            "FOURTH APPROACH\n",
            "Model: \"BERT_For_Sentiment_Analysis\"\n",
            "_________________________________________________________________\n",
            "Layer (type)                 Output Shape              Param #   \n",
            "=================================================================\n",
            "input_ids (InputLayer)       [(None, 100)]             0         \n",
            "_________________________________________________________________\n",
            "bert (TFBertMainLayer)       TFBaseModelOutputWithPool 109482240 \n",
            "_________________________________________________________________\n",
            "pooled_output (Dropout)      (None, 768)               0         \n",
            "_________________________________________________________________\n",
            "polarity (Dense)             (None, 2)                 1538      \n",
            "=================================================================\n",
            "Total params: 109,483,778\n",
            "Trainable params: 109,483,778\n",
            "Non-trainable params: 0\n",
            "_________________________________________________________________\n"
          ],
          "name": "stdout"
        }
      ]
    },
    {
      "cell_type": "code",
      "metadata": {
        "colab": {
          "base_uri": "https://localhost:8080/"
        },
        "id": "l9FX5n4DTjo2",
        "outputId": "c642912a-5f5f-4f1f-f29d-3c8349d332cf"
      },
      "source": [
        "# Training\n",
        "print('FOURTH APPROACH')\n",
        "optimizer = Adam(learning_rate=5e-05, epsilon=1e-08, decay=0.01, clipnorm=1.0)\n",
        "loss = {'polarity': CategoricalCrossentropy(from_logits = True)}\n",
        "metric = {'polarity': CategoricalAccuracy('accuracy')}\n",
        "model.compile(optimizer = optimizer, loss = loss, metrics = metric)\n",
        "\n",
        "x = tokenizer(text=df.headline.to_list(), add_special_tokens=True, max_length=maxLen, \n",
        "              truncation=True, padding=True, return_tensors='tf', return_token_type_ids = False,\n",
        "              return_attention_mask = True, verbose = True)\n",
        "history = model.fit(x={'input_ids': x['input_ids']}, y={'polarity': to_categorical(df.Default_Polarity)},\n",
        "                    validation_split=0.2, batch_size=64, epochs=20)"
      ],
      "execution_count": null,
      "outputs": [
        {
          "output_type": "stream",
          "text": [
            "FOURTH APPROACH\n",
            "Epoch 1/20\n",
            "10/10 [==============================] - 50s 3s/step - loss: 0.5878 - accuracy: 0.7248 - val_loss: 0.6604 - val_accuracy: 0.6730\n",
            "Epoch 2/20\n",
            "10/10 [==============================] - 24s 2s/step - loss: 0.5825 - accuracy: 0.7264 - val_loss: 0.6367 - val_accuracy: 0.6730\n",
            "Epoch 3/20\n",
            "10/10 [==============================] - 24s 2s/step - loss: 0.5671 - accuracy: 0.7280 - val_loss: 0.5805 - val_accuracy: 0.6792\n",
            "Epoch 4/20\n",
            "10/10 [==============================] - 24s 2s/step - loss: 0.5279 - accuracy: 0.7390 - val_loss: 0.5797 - val_accuracy: 0.6981\n",
            "Epoch 5/20\n",
            "10/10 [==============================] - 24s 2s/step - loss: 0.4161 - accuracy: 0.8302 - val_loss: 0.4724 - val_accuracy: 0.8050\n",
            "Epoch 6/20\n",
            "10/10 [==============================] - 24s 2s/step - loss: 0.2597 - accuracy: 0.9104 - val_loss: 0.3631 - val_accuracy: 0.8805\n",
            "Epoch 7/20\n",
            "10/10 [==============================] - 24s 2s/step - loss: 0.1401 - accuracy: 0.9591 - val_loss: 0.3856 - val_accuracy: 0.8616\n",
            "Epoch 8/20\n",
            "10/10 [==============================] - 24s 2s/step - loss: 0.0692 - accuracy: 0.9827 - val_loss: 0.6475 - val_accuracy: 0.8428\n",
            "Epoch 9/20\n",
            "10/10 [==============================] - 24s 2s/step - loss: 0.0400 - accuracy: 0.9906 - val_loss: 0.6781 - val_accuracy: 0.8302\n",
            "Epoch 10/20\n",
            "10/10 [==============================] - 24s 2s/step - loss: 0.0292 - accuracy: 0.9937 - val_loss: 0.5945 - val_accuracy: 0.8553\n",
            "Epoch 11/20\n",
            "10/10 [==============================] - 24s 2s/step - loss: 0.0280 - accuracy: 0.9937 - val_loss: 0.5330 - val_accuracy: 0.8931\n",
            "Epoch 12/20\n",
            "10/10 [==============================] - 24s 2s/step - loss: 0.0410 - accuracy: 0.9858 - val_loss: 0.5914 - val_accuracy: 0.8553\n",
            "Epoch 13/20\n",
            "10/10 [==============================] - 24s 2s/step - loss: 0.0172 - accuracy: 0.9969 - val_loss: 0.5401 - val_accuracy: 0.8805\n",
            "Epoch 14/20\n",
            "10/10 [==============================] - 24s 2s/step - loss: 0.0158 - accuracy: 0.9969 - val_loss: 0.6309 - val_accuracy: 0.8679\n",
            "Epoch 15/20\n",
            "10/10 [==============================] - 24s 2s/step - loss: 0.0221 - accuracy: 0.9953 - val_loss: 0.5545 - val_accuracy: 0.8805\n",
            "Epoch 16/20\n",
            "10/10 [==============================] - 24s 2s/step - loss: 0.0253 - accuracy: 0.9969 - val_loss: 0.6527 - val_accuracy: 0.8616\n",
            "Epoch 17/20\n",
            "10/10 [==============================] - 24s 2s/step - loss: 0.0178 - accuracy: 0.9969 - val_loss: 0.5913 - val_accuracy: 0.8679\n",
            "Epoch 18/20\n",
            "10/10 [==============================] - 24s 2s/step - loss: 0.0173 - accuracy: 0.9969 - val_loss: 0.8612 - val_accuracy: 0.8365\n",
            "Epoch 19/20\n",
            "10/10 [==============================] - 24s 2s/step - loss: 0.0142 - accuracy: 0.9984 - val_loss: 0.7038 - val_accuracy: 0.8553\n",
            "Epoch 20/20\n",
            "10/10 [==============================] - 24s 2s/step - loss: 0.0111 - accuracy: 0.9984 - val_loss: 0.6558 - val_accuracy: 0.8742\n"
          ],
          "name": "stdout"
        }
      ]
    },
    {
      "cell_type": "code",
      "metadata": {
        "id": "mhzB9_b9QgYm",
        "colab": {
          "base_uri": "https://localhost:8080/",
          "height": 627
        },
        "outputId": "13287d40-282d-4dfb-80d5-e5de8b93a4a0"
      },
      "source": [
        "# Plot epochs\n",
        "print('FOURTH APPROACH')\n",
        "plt.plot(history.history['accuracy'])\n",
        "plt.plot(history.history['val_accuracy'])\n",
        "plt.title('model accuracy')\n",
        "plt.ylabel('accuracy')\n",
        "plt.xlabel('epoch')\n",
        "plt.legend(['train', 'val'], loc='upper left')\n",
        "plt.show()\n",
        "print(\"\\n\")\n",
        "plt.plot(history.history['loss'])\n",
        "plt.plot(history.history['val_loss'])\n",
        "plt.title('model loss')\n",
        "plt.ylabel('loss')\n",
        "plt.xlabel('epoch')\n",
        "plt.legend(['train', 'val'], loc='upper left')\n",
        "plt.show()"
      ],
      "execution_count": null,
      "outputs": [
        {
          "output_type": "stream",
          "text": [
            "FOURTH APPROACH\n"
          ],
          "name": "stdout"
        },
        {
          "output_type": "display_data",
          "data": {
            "image/png": "[encoded data removed]",
            "text/plain": [
              "<Figure size 432x288 with 1 Axes>"
            ]
          },
          "metadata": {
            "tags": [],
            "needs_background": "light"
          }
        },
        {
          "output_type": "stream",
          "text": [
            "\n",
            "\n"
          ],
          "name": "stdout"
        },
        {
          "output_type": "display_data",
          "data": {
            "image/png": "[encoded data removed]",
            "text/plain": [
              "<Figure size 432x288 with 1 Axes>"
            ]
          },
          "metadata": {
            "tags": [],
            "needs_background": "light"
          }
        }
      ]
    },
    {
      "cell_type": "code",
      "metadata": {
        "id": "ZxHcpZDTZM8W",
        "colab": {
          "base_uri": "https://localhost:8080/"
        },
        "outputId": "f655b6dc-35e4-47da-c98c-a7ba1ced30e4"
      },
      "source": [
        "# Testing\n",
        "print('FOURTH APPROACH')\n",
        "testPol = to_categorical(df_test.Default_Polarity)\n",
        "testReview = tokenizer(text=df_test['headline'].to_list(), add_special_tokens=True,\n",
        "                         max_length=maxLen, truncation=True, padding=True, \n",
        "                         return_tensors='tf', return_token_type_ids = False,\n",
        "                         return_attention_mask = False, verbose = True)\n",
        "modelEval = model.evaluate(x={'input_ids': testReview['input_ids']}, y={'polarity': testPol})\n",
        "modelPred = model.predict({'input_ids': testReview['input_ids']})"
      ],
      "execution_count": null,
      "outputs": [
        {
          "output_type": "stream",
          "text": [
            "FOURTH APPROACH\n",
            "7/7 [==============================] - 3s 343ms/step - loss: 0.6516 - accuracy: 0.8693\n"
          ],
          "name": "stdout"
        }
      ]
    },
    {
      "cell_type": "code",
      "metadata": {
        "id": "jCLUBzRLZMo7",
        "colab": {
          "base_uri": "https://localhost:8080/"
        },
        "outputId": "82e2bc3e-df50-4988-b61d-328753790bf3"
      },
      "source": [
        "# Evaluation\n",
        "print('FOURTH APPROACH')\n",
        "polarityPred =  tf.argmax(modelPred['polarity'], axis=1).numpy()\n",
        "y_pred = np.around(polarityPred)\n",
        "print(metrics.classification_report(df_test.Default_Polarity, y_pred))"
      ],
      "execution_count": null,
      "outputs": [
        {
          "output_type": "stream",
          "text": [
            "FOURTH APPROACH\n",
            "              precision    recall  f1-score   support\n",
            "\n",
            "           0       0.80      0.72      0.76        57\n",
            "           1       0.89      0.93      0.91       142\n",
            "\n",
            "    accuracy                           0.87       199\n",
            "   macro avg       0.85      0.82      0.83       199\n",
            "weighted avg       0.87      0.87      0.87       199\n",
            "\n"
          ],
          "name": "stdout"
        }
      ]
    },
    {
      "cell_type": "code",
      "metadata": {
        "id": "t4HzM3AoY3Jx"
      },
      "source": [
        "# --------------------------------------------------------------FIFTH APPROACH--------------------------------------------------------------------- #"
      ],
      "execution_count": null,
      "outputs": []
    },
    {
      "cell_type": "code",
      "metadata": {
        "id": "vyY-3PKfoDnt",
        "colab": {
          "base_uri": "https://localhost:8080/"
        },
        "outputId": "ce9e1d5a-1054-466a-8d2a-5651d38a4362"
      },
      "source": [
        "print('FIFTH APPROACH')\n",
        "print(df.Polarity)\n",
        "print(df.Default_Polarity)\n",
        "df.loc[df.Sarcasm == 'Yes', ['Default_Polarity', 'Polarity']] = 1, 1\n",
        "print(df.Default_Polarity[df.Sarcasm == 'Yes'])"
      ],
      "execution_count": null,
      "outputs": [
        {
          "output_type": "stream",
          "text": [
            "FIFTH APPROACH\n",
            "0     -1\n",
            "1     -1\n",
            "2     -1\n",
            "3     -1\n",
            "4     -1\n",
            "      ..\n",
            "989   -1\n",
            "990   -1\n",
            "991   -1\n",
            "992   -1\n",
            "993   -1\n",
            "Name: Polarity, Length: 994, dtype: category\n",
            "Categories (2, int64): [-1, 1]\n",
            "0      0\n",
            "1      0\n",
            "2      0\n",
            "3      0\n",
            "4      0\n",
            "      ..\n",
            "989    0\n",
            "990    0\n",
            "991    0\n",
            "992    0\n",
            "993    0\n",
            "Name: Default_Polarity, Length: 994, dtype: int8\n",
            "0      1\n",
            "1      1\n",
            "2      1\n",
            "3      1\n",
            "4      1\n",
            "      ..\n",
            "345    1\n",
            "346    1\n",
            "347    1\n",
            "348    1\n",
            "349    1\n",
            "Name: Default_Polarity, Length: 350, dtype: int8\n"
          ],
          "name": "stdout"
        }
      ]
    },
    {
      "cell_type": "code",
      "metadata": {
        "colab": {
          "base_uri": "https://localhost:8080/"
        },
        "id": "5-J-nxkDZZXg",
        "outputId": "8a9dbe4c-c671-4112-ba8a-03a4a1bbd7b0"
      },
      "source": [
        "print('FIFTH APPROACH')\n",
        "pol = Dense(units=len(df.Default_Polarity.value_counts()), kernel_initializer=TruncatedNormal(stddev=conf.initializer_range), name='polarity')(pooledOutput)\n",
        "outputs = {'polarity': pol}\n",
        "# Show model\n",
        "model = Model(inputs=inputs, outputs=outputs, name='BERT_For_Sentiment_Analysis')\n",
        "model.summary()"
      ],
      "execution_count": null,
      "outputs": [
        {
          "output_type": "stream",
          "text": [
            "FIFTH APPROACH\n",
            "Model: \"BERT_For_Sentiment_Analysis\"\n",
            "_________________________________________________________________\n",
            "Layer (type)                 Output Shape              Param #   \n",
            "=================================================================\n",
            "input_ids (InputLayer)       [(None, 100)]             0         \n",
            "_________________________________________________________________\n",
            "bert (TFBertMainLayer)       TFBaseModelOutputWithPool 109482240 \n",
            "_________________________________________________________________\n",
            "pooled_output (Dropout)      (None, 768)               0         \n",
            "_________________________________________________________________\n",
            "polarity (Dense)             (None, 2)                 1538      \n",
            "=================================================================\n",
            "Total params: 109,483,778\n",
            "Trainable params: 109,483,778\n",
            "Non-trainable params: 0\n",
            "_________________________________________________________________\n"
          ],
          "name": "stdout"
        }
      ]
    },
    {
      "cell_type": "code",
      "metadata": {
        "colab": {
          "base_uri": "https://localhost:8080/"
        },
        "id": "wjVugoWHTlhc",
        "outputId": "a804d969-c559-4239-c7ed-ce3e8f97ca0b"
      },
      "source": [
        "# Training\n",
        "print('FIFTH APPROACH')\n",
        "optimizer = Adam(learning_rate=5e-05, epsilon=1e-08, decay=0.01, clipnorm=1.0)\n",
        "loss = {'polarity': CategoricalCrossentropy(from_logits = True)}\n",
        "metric = {'polarity': CategoricalAccuracy('accuracy')}\n",
        "model.compile(optimizer = optimizer, loss = loss, metrics = metric)\n",
        "\n",
        "x = tokenizer(text=df.headline.to_list(), add_special_tokens=True, max_length=maxLen, \n",
        "              truncation=True, padding=True, return_tensors='tf', return_token_type_ids = False,\n",
        "              return_attention_mask = True, verbose = True)\n",
        "history = model.fit(x={'input_ids': x['input_ids']}, y={'polarity': to_categorical(df.Default_Polarity)},\n",
        "                    validation_split=0.2, batch_size=64, epochs=20)"
      ],
      "execution_count": null,
      "outputs": [
        {
          "output_type": "stream",
          "text": [
            "FIFTH APPROACH\n",
            "Epoch 1/20\n",
            "10/10 [==============================] - 50s 3s/step - loss: 0.6361 - accuracy: 0.6714 - val_loss: 0.6160 - val_accuracy: 0.6981\n",
            "Epoch 2/20\n",
            "10/10 [==============================] - 24s 2s/step - loss: 0.5951 - accuracy: 0.7201 - val_loss: 0.6028 - val_accuracy: 0.6981\n",
            "Epoch 3/20\n",
            "10/10 [==============================] - 24s 2s/step - loss: 0.5713 - accuracy: 0.7201 - val_loss: 0.5635 - val_accuracy: 0.6981\n",
            "Epoch 4/20\n",
            "10/10 [==============================] - 24s 2s/step - loss: 0.5062 - accuracy: 0.7563 - val_loss: 0.4691 - val_accuracy: 0.8050\n",
            "Epoch 5/20\n",
            "10/10 [==============================] - 24s 2s/step - loss: 0.3451 - accuracy: 0.8868 - val_loss: 0.3703 - val_accuracy: 0.8491\n",
            "Epoch 6/20\n",
            "10/10 [==============================] - 24s 2s/step - loss: 0.1941 - accuracy: 0.9371 - val_loss: 0.3813 - val_accuracy: 0.8553\n",
            "Epoch 7/20\n",
            "10/10 [==============================] - 24s 2s/step - loss: 0.1119 - accuracy: 0.9654 - val_loss: 0.4818 - val_accuracy: 0.8239\n",
            "Epoch 8/20\n",
            "10/10 [==============================] - 24s 2s/step - loss: 0.0848 - accuracy: 0.9796 - val_loss: 0.5638 - val_accuracy: 0.7925\n",
            "Epoch 9/20\n",
            "10/10 [==============================] - 24s 2s/step - loss: 0.0682 - accuracy: 0.9827 - val_loss: 0.4784 - val_accuracy: 0.8553\n",
            "Epoch 10/20\n",
            "10/10 [==============================] - 24s 2s/step - loss: 0.0291 - accuracy: 0.9937 - val_loss: 0.5570 - val_accuracy: 0.8302\n",
            "Epoch 11/20\n",
            "10/10 [==============================] - 24s 2s/step - loss: 0.0124 - accuracy: 1.0000 - val_loss: 0.6417 - val_accuracy: 0.8176\n",
            "Epoch 12/20\n",
            "10/10 [==============================] - 24s 2s/step - loss: 0.0066 - accuracy: 1.0000 - val_loss: 0.6319 - val_accuracy: 0.8239\n",
            "Epoch 13/20\n",
            "10/10 [==============================] - 24s 2s/step - loss: 0.0050 - accuracy: 1.0000 - val_loss: 0.6683 - val_accuracy: 0.8302\n",
            "Epoch 14/20\n",
            "10/10 [==============================] - 24s 2s/step - loss: 0.0041 - accuracy: 1.0000 - val_loss: 0.6940 - val_accuracy: 0.8239\n",
            "Epoch 15/20\n",
            "10/10 [==============================] - 24s 2s/step - loss: 0.0033 - accuracy: 1.0000 - val_loss: 0.7239 - val_accuracy: 0.8302\n",
            "Epoch 16/20\n",
            "10/10 [==============================] - 24s 2s/step - loss: 0.0028 - accuracy: 1.0000 - val_loss: 0.7512 - val_accuracy: 0.8239\n",
            "Epoch 17/20\n",
            "10/10 [==============================] - 24s 2s/step - loss: 0.0025 - accuracy: 1.0000 - val_loss: 0.7790 - val_accuracy: 0.8239\n",
            "Epoch 18/20\n",
            "10/10 [==============================] - 24s 2s/step - loss: 0.0021 - accuracy: 1.0000 - val_loss: 0.8033 - val_accuracy: 0.8176\n",
            "Epoch 19/20\n",
            "10/10 [==============================] - 24s 2s/step - loss: 0.0018 - accuracy: 1.0000 - val_loss: 0.8259 - val_accuracy: 0.8302\n",
            "Epoch 20/20\n",
            "10/10 [==============================] - 24s 2s/step - loss: 0.0016 - accuracy: 1.0000 - val_loss: 0.8469 - val_accuracy: 0.8302\n"
          ],
          "name": "stdout"
        }
      ]
    },
    {
      "cell_type": "code",
      "metadata": {
        "colab": {
          "base_uri": "https://localhost:8080/",
          "height": 627
        },
        "id": "u5nF4C5pQjQI",
        "outputId": "8665864d-e1e7-41d4-a35f-811ebd5fb92b"
      },
      "source": [
        "# Plot epochs\n",
        "print('FIFTH APPROACH')\n",
        "plt.plot(history.history['accuracy'])\n",
        "plt.plot(history.history['val_accuracy'])\n",
        "plt.title('model accuracy')\n",
        "plt.ylabel('accuracy')\n",
        "plt.xlabel('epoch')\n",
        "plt.legend(['train', 'val'], loc='upper left')\n",
        "plt.show()\n",
        "print(\"\\n\")\n",
        "plt.plot(history.history['loss'])\n",
        "plt.plot(history.history['val_loss'])\n",
        "plt.title('model loss')\n",
        "plt.ylabel('loss')\n",
        "plt.xlabel('epoch')\n",
        "plt.legend(['train', 'val'], loc='upper left')\n",
        "plt.show()"
      ],
      "execution_count": null,
      "outputs": [
        {
          "output_type": "stream",
          "text": [
            "FIFTH APPROACH\n"
          ],
          "name": "stdout"
        },
        {
          "output_type": "display_data",
          "data": {
            "image/png": "[encoded data removed]",
            "text/plain": [
              "<Figure size 432x288 with 1 Axes>"
            ]
          },
          "metadata": {
            "tags": [],
            "needs_background": "light"
          }
        },
        {
          "output_type": "stream",
          "text": [
            "\n",
            "\n"
          ],
          "name": "stdout"
        },
        {
          "output_type": "display_data",
          "data": {
            "image/png": "[encoded data removed]",
            "text/plain": [
              "<Figure size 432x288 with 1 Axes>"
            ]
          },
          "metadata": {
            "tags": [],
            "needs_background": "light"
          }
        }
      ]
    },
    {
      "cell_type": "code",
      "metadata": {
        "colab": {
          "base_uri": "https://localhost:8080/"
        },
        "id": "Khlc8_7oZg2Y",
        "outputId": "e2f8611c-1a1e-4632-84eb-a129a04023cf"
      },
      "source": [
        "# Testing\n",
        "print('FIFTH APPROACH')\n",
        "testPol = to_categorical(df_test.Default_Polarity)\n",
        "testReview = tokenizer(text=df_test['headline'].to_list(), add_special_tokens=True,\n",
        "                         max_length=maxLen, truncation=True, padding=True, \n",
        "                         return_tensors='tf', return_token_type_ids = False,\n",
        "                         return_attention_mask = False, verbose = True)\n",
        "modelEval = model.evaluate(x={'input_ids': testReview['input_ids']}, y={'polarity': testPol})\n",
        "modelPred = model.predict({'input_ids': testReview['input_ids']})"
      ],
      "execution_count": null,
      "outputs": [
        {
          "output_type": "stream",
          "text": [
            "FIFTH APPROACH\n",
            "7/7 [==============================] - 3s 344ms/step - loss: 0.8586 - accuracy: 0.8342\n"
          ],
          "name": "stdout"
        }
      ]
    },
    {
      "cell_type": "code",
      "metadata": {
        "colab": {
          "base_uri": "https://localhost:8080/"
        },
        "id": "MJbDSelVZi2D",
        "outputId": "41d08b41-5fdc-4e2d-f145-88cb63c5d737"
      },
      "source": [
        "# Evaluation\n",
        "print('FIFTH APPROACH')\n",
        "polarityPred =  tf.argmax(modelPred['polarity'], axis=1).numpy()\n",
        "y_pred = np.around(polarityPred)\n",
        "print(metrics.classification_report(df_test.Default_Polarity, y_pred))"
      ],
      "execution_count": null,
      "outputs": [
        {
          "output_type": "stream",
          "text": [
            "FIFTH APPROACH\n",
            "              precision    recall  f1-score   support\n",
            "\n",
            "           0       0.80      0.56      0.66        57\n",
            "           1       0.84      0.94      0.89       142\n",
            "\n",
            "    accuracy                           0.83       199\n",
            "   macro avg       0.82      0.75      0.78       199\n",
            "weighted avg       0.83      0.83      0.82       199\n",
            "\n"
          ],
          "name": "stdout"
        }
      ]
    }
  ]
}
